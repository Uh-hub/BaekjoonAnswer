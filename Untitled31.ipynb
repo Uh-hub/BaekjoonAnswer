{
  "nbformat": 4,
  "nbformat_minor": 0,
  "metadata": {
    "colab": {
      "name": "Untitled31.ipynb",
      "provenance": [],
      "authorship_tag": "ABX9TyPcscTbeueNpwNmrzJd/5xt",
      "include_colab_link": true
    },
    "kernelspec": {
      "name": "python3",
      "display_name": "Python 3"
    },
    "language_info": {
      "name": "python"
    }
  },
  "cells": [
    {
      "cell_type": "markdown",
      "metadata": {
        "id": "view-in-github",
        "colab_type": "text"
      },
      "source": [
        "<a href=\"https://colab.research.google.com/github/Uh-hub/BaekjoonAnswer/blob/main/Untitled31.ipynb\" target=\"_parent\"><img src=\"https://colab.research.google.com/assets/colab-badge.svg\" alt=\"Open In Colab\"/></a>"
      ]
    },
    {
      "cell_type": "code",
      "execution_count": null,
      "metadata": {
        "colab": {
          "base_uri": "https://localhost:8080/"
        },
        "id": "FjbjfDtkF7oj",
        "outputId": "c54720bf-6844-4d07-9ac6-9879f8492f5e"
      },
      "outputs": [
        {
          "name": "stdout",
          "output_type": "stream",
          "text": [
            "1 19\n",
            "No\n",
            "4 4\n",
            "No\n",
            "23 14\n",
            "Yes\n",
            "0 0\n"
          ]
        }
      ],
      "source": [
        "while True:\n",
        "  a, b = map(int, input().split())\n",
        "  if a == 0 & b == 0:\n",
        "    break\n",
        "  else:\n",
        "    if(a > b):\n",
        "      print(\"Yes\")\n",
        "    else:\n",
        "      print(\"No\")"
      ]
    },
    {
      "cell_type": "code",
      "source": [
        "n = int(input())\n",
        "i = 0\n",
        "a = 0\n",
        "b = 0\n",
        "\n",
        "for i in range(n):\n",
        "  a, b = map(int, input().split())\n",
        "  #같은 수를 계속 곱하면 일의 자리 값은 4 단위로 반복됨. \n",
        "  #따라서 b를 4로 나눈 나머지로 a를 제곱하자. \n",
        "  print(\"a**b:\", a**b)\n",
        "  b = b % 4\n",
        "  if b == 0:\n",
        "    b = 4\n",
        "  \n",
        "  square = a**b % 10\n",
        "  print(square)"
      ],
      "metadata": {
        "id": "KwYqSTYGGHUM",
        "colab": {
          "base_uri": "https://localhost:8080/"
        },
        "outputId": "6d4caf36-aaea-4aca-ea7a-dee30620a46e"
      },
      "execution_count": null,
      "outputs": [
        {
          "output_type": "stream",
          "name": "stdout",
          "text": [
            "5\n",
            "1 6\n",
            "a**b: 1\n",
            "1\n",
            "3 7\n",
            "a**b: 2187\n",
            "7\n",
            "6 2\n",
            "a**b: 36\n",
            "6\n",
            "7 100\n",
            "a**b: 3234476509624757991344647769100216810857203198904625400933895331391691459636928060001\n",
            "1\n",
            "10 10\n",
            "a**b: 10000000000\n",
            "0\n"
          ]
        }
      ]
    },
    {
      "cell_type": "code",
      "source": [
        "a, b, c = map(int, input().split())\n",
        "d = int(input()) \n",
        "add_b = 0\n",
        "add_a = 0\n",
        "c += d % 60\n",
        "if c >= 60:\n",
        "  add_b = c // 60\n",
        "  c -= 60*add_b\n",
        "b += (d // 60) % 60 + add_b\n",
        "if b >= 60:\n",
        "  add_a = b // 60\n",
        "  b -= 60*add_a\n",
        "a += ((d//60) // 60) + add_a\n",
        "if a >= 24:\n",
        "  a -= 24*(a//24)\n",
        "print(a, b, c)"
      ],
      "metadata": {
        "id": "eDPyZqRZDWnb",
        "colab": {
          "base_uri": "https://localhost:8080/"
        },
        "outputId": "c7212187-9e6d-4bca-f25b-07cb3b6b1b4d"
      },
      "execution_count": 4,
      "outputs": [
        {
          "output_type": "stream",
          "name": "stdout",
          "text": [
            "23 48 59\n",
            "2515\n",
            "0 30 54\n"
          ]
        }
      ]
    },
    {
      "cell_type": "code",
      "source": [
        ""
      ],
      "metadata": {
        "id": "bCpT1n4K9jga"
      },
      "execution_count": null,
      "outputs": []
    }
  ]
}