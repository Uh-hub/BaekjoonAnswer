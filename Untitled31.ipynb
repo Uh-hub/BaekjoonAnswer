{
  "nbformat": 4,
  "nbformat_minor": 0,
  "metadata": {
    "colab": {
      "name": "Untitled31.ipynb",
      "provenance": [],
      "authorship_tag": "ABX9TyMoL1oN6OzmYRBEBcl6ZEIv",
      "include_colab_link": true
    },
    "kernelspec": {
      "name": "python3",
      "display_name": "Python 3"
    },
    "language_info": {
      "name": "python"
    }
  },
  "cells": [
    {
      "cell_type": "markdown",
      "metadata": {
        "id": "view-in-github",
        "colab_type": "text"
      },
      "source": [
        "<a href=\"https://colab.research.google.com/github/Uh-hub/BaekjoonAnswer/blob/main/Untitled31.ipynb\" target=\"_parent\"><img src=\"https://colab.research.google.com/assets/colab-badge.svg\" alt=\"Open In Colab\"/></a>"
      ]
    },
    {
      "cell_type": "code",
      "execution_count": 6,
      "metadata": {
        "colab": {
          "base_uri": "https://localhost:8080/"
        },
        "id": "FjbjfDtkF7oj",
        "outputId": "c54720bf-6844-4d07-9ac6-9879f8492f5e"
      },
      "outputs": [
        {
          "name": "stdout",
          "output_type": "stream",
          "text": [
            "1 19\n",
            "No\n",
            "4 4\n",
            "No\n",
            "23 14\n",
            "Yes\n",
            "0 0\n"
          ]
        }
      ],
      "source": [
        "while True:\n",
        "  a, b = map(int, input().split())\n",
        "  if a == 0 & b == 0:\n",
        "    break\n",
        "  else:\n",
        "    if(a > b):\n",
        "      print(\"Yes\")\n",
        "    else:\n",
        "      print(\"No\")"
      ]
    },
    {
      "cell_type": "code",
      "source": [
        ""
      ],
      "metadata": {
        "id": "KwYqSTYGGHUM"
      },
      "execution_count": null,
      "outputs": []
    }
  ]
}